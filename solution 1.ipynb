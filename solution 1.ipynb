{
 "cells": [
  {
   "cell_type": "code",
   "execution_count": 1,
   "metadata": {},
   "outputs": [],
   "source": [
    "import pandas as pd"
   ]
  },
  {
   "cell_type": "code",
   "execution_count": 2,
   "metadata": {},
   "outputs": [],
   "source": [
    "df = pd.read_csv(\"S02_21.08.20_14.34.32.csv\")"
   ]
  },
  {
   "cell_type": "code",
   "execution_count": 3,
   "metadata": {},
   "outputs": [],
   "source": [
    "k = df[\"MarkerValueInt\"].fillna(\"nan\")\n",
    "l = df[\"EEG.AF4\"]"
   ]
  },
  {
   "cell_type": "code",
   "execution_count": 5,
   "metadata": {},
   "outputs": [],
   "source": [
    "start = 0\n",
    "last = 0\n",
    "c = []\n",
    "l1 = []\n",
    "l3 = []\n",
    "l22 = []\n",
    "l23 = []\n",
    "for i in range (0,len(k)):\n",
    "    last = i\n",
    "    if type(k[i]) == float:\n",
    "        k[i]\n",
    "        str(start) +\" \"+ str(last)\n",
    "        t = list(l[start:last])\n",
    "        if k[i] == 1.0:\n",
    "            l1.append(t)\n",
    "        if k[i] == 3.0:\n",
    "            l3.append(t)\n",
    "        if k[i] == 22.0:\n",
    "            l22.append(t)\n",
    "        if k[i] == 23.0:\n",
    "            l23.append(t)\n",
    "            \n",
    "        start = last\n",
    "        "
   ]
  },
  {
   "cell_type": "code",
   "execution_count": 6,
   "metadata": {},
   "outputs": [],
   "source": [
    "class_22 = pd.DataFrame(l22)\n",
    "class_22 = class_22.T\n",
    "\n"
   ]
  },
  {
   "cell_type": "code",
   "execution_count": 7,
   "metadata": {},
   "outputs": [],
   "source": [
    "class_23 = pd.DataFrame(l23)\n",
    "class_23 = class_23.T\n",
    "\n"
   ]
  },
  {
   "cell_type": "code",
   "execution_count": 9,
   "metadata": {},
   "outputs": [],
   "source": [
    "class_22.to_excel(\"22.xlsx\")"
   ]
  },
  {
   "cell_type": "code",
   "execution_count": 10,
   "metadata": {},
   "outputs": [],
   "source": [
    "class_23.to_excel(\"23.xlsx\")"
   ]
  },
  {
   "cell_type": "code",
   "execution_count": null,
   "metadata": {},
   "outputs": [],
   "source": []
  }
 ],
 "metadata": {
  "kernelspec": {
   "display_name": "Python 3",
   "language": "python",
   "name": "python3"
  },
  "language_info": {
   "codemirror_mode": {
    "name": "ipython",
    "version": 3
   },
   "file_extension": ".py",
   "mimetype": "text/x-python",
   "name": "python",
   "nbconvert_exporter": "python",
   "pygments_lexer": "ipython3",
   "version": "3.7.5"
  }
 },
 "nbformat": 4,
 "nbformat_minor": 2
}
