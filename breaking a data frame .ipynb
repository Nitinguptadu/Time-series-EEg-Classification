{
 "cells": [
  {
   "cell_type": "code",
   "execution_count": 1,
   "metadata": {},
   "outputs": [],
   "source": [
    "import pandas as pd"
   ]
  },
  {
   "cell_type": "code",
   "execution_count": 2,
   "metadata": {},
   "outputs": [],
   "source": [
    "df = pd.read_csv(\"S02_21.08.20_14.34.32.csv\")"
   ]
  },
  {
   "cell_type": "code",
   "execution_count": 43,
   "metadata": {},
   "outputs": [
    {
     "data": {
      "text/html": [
       "<div>\n",
       "<style scoped>\n",
       "    .dataframe tbody tr th:only-of-type {\n",
       "        vertical-align: middle;\n",
       "    }\n",
       "\n",
       "    .dataframe tbody tr th {\n",
       "        vertical-align: top;\n",
       "    }\n",
       "\n",
       "    .dataframe thead th {\n",
       "        text-align: right;\n",
       "    }\n",
       "</style>\n",
       "<table border=\"1\" class=\"dataframe\">\n",
       "  <thead>\n",
       "    <tr style=\"text-align: right;\">\n",
       "      <th></th>\n",
       "      <th>Timestamp</th>\n",
       "      <th>EEG.Counter</th>\n",
       "      <th>EEG.AF3</th>\n",
       "      <th>EEG.F7</th>\n",
       "      <th>EEG.F3</th>\n",
       "      <th>EEG.FC5</th>\n",
       "      <th>EEG.T7</th>\n",
       "      <th>EEG.P7</th>\n",
       "      <th>EEG.O1</th>\n",
       "      <th>EEG.O2</th>\n",
       "      <th>EEG.P8</th>\n",
       "      <th>EEG.T8</th>\n",
       "      <th>EEG.FC6</th>\n",
       "      <th>EEG.F4</th>\n",
       "      <th>EEG.F8</th>\n",
       "      <th>EEG.AF4</th>\n",
       "      <th>MarkerIndex</th>\n",
       "      <th>MarkerType</th>\n",
       "      <th>MarkerValueInt</th>\n",
       "    </tr>\n",
       "  </thead>\n",
       "  <tbody>\n",
       "    <tr>\n",
       "      <th>0</th>\n",
       "      <td>1.598001e+09</td>\n",
       "      <td>128</td>\n",
       "      <td>4048.718018</td>\n",
       "      <td>4152.307617</td>\n",
       "      <td>4190.256348</td>\n",
       "      <td>4169.230957</td>\n",
       "      <td>4164.102539</td>\n",
       "      <td>4210.256348</td>\n",
       "      <td>4175.384766</td>\n",
       "      <td>4177.948730</td>\n",
       "      <td>4195.384766</td>\n",
       "      <td>4176.410156</td>\n",
       "      <td>4188.717773</td>\n",
       "      <td>4203.589844</td>\n",
       "      <td>3986.153809</td>\n",
       "      <td>3181.538574</td>\n",
       "      <td>NaN</td>\n",
       "      <td>NaN</td>\n",
       "      <td>NaN</td>\n",
       "    </tr>\n",
       "    <tr>\n",
       "      <th>1</th>\n",
       "      <td>1.598001e+09</td>\n",
       "      <td>0</td>\n",
       "      <td>4052.307617</td>\n",
       "      <td>4152.307617</td>\n",
       "      <td>4192.307617</td>\n",
       "      <td>4168.205078</td>\n",
       "      <td>4153.846191</td>\n",
       "      <td>4215.897461</td>\n",
       "      <td>4178.974121</td>\n",
       "      <td>4180.512695</td>\n",
       "      <td>4193.846191</td>\n",
       "      <td>4172.307617</td>\n",
       "      <td>4189.743652</td>\n",
       "      <td>4204.615234</td>\n",
       "      <td>3985.641113</td>\n",
       "      <td>3189.230713</td>\n",
       "      <td>NaN</td>\n",
       "      <td>NaN</td>\n",
       "      <td>NaN</td>\n",
       "    </tr>\n",
       "    <tr>\n",
       "      <th>2</th>\n",
       "      <td>1.598001e+09</td>\n",
       "      <td>1</td>\n",
       "      <td>4060.512939</td>\n",
       "      <td>4155.384766</td>\n",
       "      <td>4194.871582</td>\n",
       "      <td>4169.743652</td>\n",
       "      <td>4150.256348</td>\n",
       "      <td>4218.461426</td>\n",
       "      <td>4180.512695</td>\n",
       "      <td>4181.025879</td>\n",
       "      <td>4194.871582</td>\n",
       "      <td>4173.846191</td>\n",
       "      <td>4189.743652</td>\n",
       "      <td>4205.641113</td>\n",
       "      <td>3987.692383</td>\n",
       "      <td>3196.923096</td>\n",
       "      <td>NaN</td>\n",
       "      <td>NaN</td>\n",
       "      <td>NaN</td>\n",
       "    </tr>\n",
       "    <tr>\n",
       "      <th>3</th>\n",
       "      <td>1.598001e+09</td>\n",
       "      <td>2</td>\n",
       "      <td>4061.538574</td>\n",
       "      <td>4156.410156</td>\n",
       "      <td>4191.794922</td>\n",
       "      <td>4171.282227</td>\n",
       "      <td>4144.102539</td>\n",
       "      <td>4210.256348</td>\n",
       "      <td>4175.897461</td>\n",
       "      <td>4177.948730</td>\n",
       "      <td>4198.461426</td>\n",
       "      <td>4177.436035</td>\n",
       "      <td>4186.666504</td>\n",
       "      <td>4205.641113</td>\n",
       "      <td>3987.179443</td>\n",
       "      <td>3202.051270</td>\n",
       "      <td>NaN</td>\n",
       "      <td>NaN</td>\n",
       "      <td>NaN</td>\n",
       "    </tr>\n",
       "    <tr>\n",
       "      <th>4</th>\n",
       "      <td>1.598001e+09</td>\n",
       "      <td>3</td>\n",
       "      <td>4053.846191</td>\n",
       "      <td>4149.230957</td>\n",
       "      <td>4186.666504</td>\n",
       "      <td>4166.666504</td>\n",
       "      <td>4142.563965</td>\n",
       "      <td>4206.153809</td>\n",
       "      <td>4171.794922</td>\n",
       "      <td>4174.358887</td>\n",
       "      <td>4198.974121</td>\n",
       "      <td>4169.743652</td>\n",
       "      <td>4182.563965</td>\n",
       "      <td>4200.512695</td>\n",
       "      <td>3976.923096</td>\n",
       "      <td>3205.641113</td>\n",
       "      <td>NaN</td>\n",
       "      <td>NaN</td>\n",
       "      <td>NaN</td>\n",
       "    </tr>\n",
       "  </tbody>\n",
       "</table>\n",
       "</div>"
      ],
      "text/plain": [
       "      Timestamp  EEG.Counter      EEG.AF3       EEG.F7       EEG.F3  \\\n",
       "0  1.598001e+09          128  4048.718018  4152.307617  4190.256348   \n",
       "1  1.598001e+09            0  4052.307617  4152.307617  4192.307617   \n",
       "2  1.598001e+09            1  4060.512939  4155.384766  4194.871582   \n",
       "3  1.598001e+09            2  4061.538574  4156.410156  4191.794922   \n",
       "4  1.598001e+09            3  4053.846191  4149.230957  4186.666504   \n",
       "\n",
       "       EEG.FC5       EEG.T7       EEG.P7       EEG.O1       EEG.O2  \\\n",
       "0  4169.230957  4164.102539  4210.256348  4175.384766  4177.948730   \n",
       "1  4168.205078  4153.846191  4215.897461  4178.974121  4180.512695   \n",
       "2  4169.743652  4150.256348  4218.461426  4180.512695  4181.025879   \n",
       "3  4171.282227  4144.102539  4210.256348  4175.897461  4177.948730   \n",
       "4  4166.666504  4142.563965  4206.153809  4171.794922  4174.358887   \n",
       "\n",
       "        EEG.P8       EEG.T8      EEG.FC6       EEG.F4       EEG.F8  \\\n",
       "0  4195.384766  4176.410156  4188.717773  4203.589844  3986.153809   \n",
       "1  4193.846191  4172.307617  4189.743652  4204.615234  3985.641113   \n",
       "2  4194.871582  4173.846191  4189.743652  4205.641113  3987.692383   \n",
       "3  4198.461426  4177.436035  4186.666504  4205.641113  3987.179443   \n",
       "4  4198.974121  4169.743652  4182.563965  4200.512695  3976.923096   \n",
       "\n",
       "       EEG.AF4  MarkerIndex  MarkerType  MarkerValueInt  \n",
       "0  3181.538574          NaN         NaN             NaN  \n",
       "1  3189.230713          NaN         NaN             NaN  \n",
       "2  3196.923096          NaN         NaN             NaN  \n",
       "3  3202.051270          NaN         NaN             NaN  \n",
       "4  3205.641113          NaN         NaN             NaN  "
      ]
     },
     "execution_count": 43,
     "metadata": {},
     "output_type": "execute_result"
    }
   ],
   "source": [
    "df.head()"
   ]
  },
  {
   "cell_type": "code",
   "execution_count": 48,
   "metadata": {},
   "outputs": [],
   "source": [
    "l = df[\"MarkerValueInt\"].fillna(\"nan\")"
   ]
  },
  {
   "cell_type": "code",
   "execution_count": 51,
   "metadata": {},
   "outputs": [
    {
     "name": "stdout",
     "output_type": "stream",
     "text": [
      "1.0\n"
     ]
    }
   ],
   "source": [
    "for i in l:\n",
    "    if i == 1.0:\n",
    "        print(i)\n",
    "        break\n",
    "        "
   ]
  },
  {
   "cell_type": "code",
   "execution_count": 93,
   "metadata": {},
   "outputs": [],
   "source": [
    "k = [\"nan\",\"nan\",1.0,\"nan\",\"nan\",23.0]\n",
    "l = [\"1\", \"2\" , \"3\", \"4\", \"5\",\"6\"]"
   ]
  },
  {
   "cell_type": "code",
   "execution_count": 81,
   "metadata": {},
   "outputs": [
    {
     "name": "stdout",
     "output_type": "stream",
     "text": [
      "nan\n",
      "<class 'str'>\n",
      "nan\n",
      "<class 'str'>\n",
      "1.0\n",
      "<class 'float'>\n",
      "nan\n",
      "<class 'str'>\n",
      "nan\n",
      "<class 'str'>\n",
      "23.0\n",
      "<class 'float'>\n"
     ]
    }
   ],
   "source": [
    "for i in k:\n",
    "    print(i)\n",
    "    print(type(i))"
   ]
  },
  {
   "cell_type": "code",
   "execution_count": 94,
   "metadata": {},
   "outputs": [
    {
     "name": "stdout",
     "output_type": "stream",
     "text": [
      "0 2\n",
      "['1', '2']\n",
      "2 5\n",
      "['3', '4', '5']\n"
     ]
    }
   ],
   "source": [
    "start = 0\n",
    "last = 0\n",
    "for i in range (0,len(k)):\n",
    "    last = i\n",
    "    if type(k[i]) == float:\n",
    "        print(str(start) +\" \"+ str(last))\n",
    "        print(l[start:last])\n",
    "        start = last\n",
    "        "
   ]
  },
  {
   "cell_type": "code",
   "execution_count": 70,
   "metadata": {},
   "outputs": [
    {
     "data": {
      "text/plain": [
       "6"
      ]
     },
     "execution_count": 70,
     "metadata": {},
     "output_type": "execute_result"
    }
   ],
   "source": [
    "len(k)"
   ]
  },
  {
   "cell_type": "code",
   "execution_count": 106,
   "metadata": {},
   "outputs": [
    {
     "name": "stdout",
     "output_type": "stream",
     "text": [
      "1.0\n",
      "['1', '2']\n",
      "23.0\n",
      "['3', '4', '5']\n"
     ]
    }
   ],
   "source": [
    "start = 0\n",
    "\n",
    "for i in range (0,len(k)):\n",
    "   \n",
    "    last = i\n",
    "    if type(k[i]) == float:\n",
    "        print(k[i])\n",
    "        str(start) +\" \"+ str(last)\n",
    "        print(l[start:last])\n",
    "        start = last\n",
    "        \n",
    "        "
   ]
  },
  {
   "cell_type": "code",
   "execution_count": 100,
   "metadata": {},
   "outputs": [
    {
     "data": {
      "text/plain": [
       "[None, None]"
      ]
     },
     "execution_count": 100,
     "metadata": {},
     "output_type": "execute_result"
    }
   ],
   "source": [
    "t"
   ]
  },
  {
   "cell_type": "code",
   "execution_count": null,
   "metadata": {},
   "outputs": [],
   "source": []
  }
 ],
 "metadata": {
  "kernelspec": {
   "display_name": "Python 3",
   "language": "python",
   "name": "python3"
  },
  "language_info": {
   "codemirror_mode": {
    "name": "ipython",
    "version": 3
   },
   "file_extension": ".py",
   "mimetype": "text/x-python",
   "name": "python",
   "nbconvert_exporter": "python",
   "pygments_lexer": "ipython3",
   "version": "3.7.5"
  }
 },
 "nbformat": 4,
 "nbformat_minor": 2
}
